{
 "cells": [
  {
   "cell_type": "markdown",
   "metadata": {},
   "source": [
    "## Operadores - Actividad"
   ]
  },
  {
   "cell_type": "markdown",
   "metadata": {},
   "source": [
    "1) Pedir al usuario dos números y mostrar por pantalla la suma de ellos."
   ]
  },
  {
   "cell_type": "code",
   "execution_count": 5,
   "metadata": {},
   "outputs": [
    {
     "name": "stdout",
     "output_type": "stream",
     "text": [
      "El resultado es: 4.0\n"
     ]
    }
   ],
   "source": [
    "primervalor =  float(input(\"Ingrese el primer valor:\"))\n",
    "segundovalor = float(input(\"Ingrese el segundo valor:\"))\n",
    "resultado = primervalor + segundovalor\n",
    "print (\"El resultado es:\", resultado,)"
   ]
  },
  {
   "cell_type": "markdown",
   "metadata": {},
   "source": [
    "2) Calcular el perímetro y área de un rectángulo dada su base y su altura (el usuario debe introducir por teclado los dos valores)."
   ]
  },
  {
   "cell_type": "code",
   "execution_count": 6,
   "metadata": {},
   "outputs": [
    {
     "name": "stdout",
     "output_type": "stream",
     "text": [
      "El valor del área es: 105.0 y el perimetro es de: 44.0\n"
     ]
    }
   ],
   "source": [
    "base =  float(input(\"Ingrese la base:\"))\n",
    "altura = float(input(\"Ingrese la altura:\"))\n",
    "area = base * altura\n",
    "perimetro = altura+altura+base+base\n",
    "print(\"El valor del área es:\", area,\"y el perimetro es de:\",perimetro,)"
   ]
  },
  {
   "cell_type": "markdown",
   "metadata": {},
   "source": [
    "3) Calcular el resultado de elevar un número entero a otro número entero (por ejemplo, 5 elevado a 3 = 5^3 = 5*5*5)."
   ]
  },
  {
   "cell_type": "code",
   "execution_count": 7,
   "metadata": {},
   "outputs": [
    {
     "name": "stdout",
     "output_type": "stream",
     "text": [
      "El resultado es: 125.0\n"
     ]
    }
   ],
   "source": [
    "elevado = float(input(\"Ingrese el valor que sea elevado\"))\n",
    "elevador = float(input(\"ingrese el valor que elevará\"))\n",
    "resultado = elevado ** elevador\n",
    "print(\"El resultado es:\",resultado,)"
   ]
  },
  {
   "cell_type": "markdown",
   "metadata": {},
   "source": [
    "4) Escribe un programa que convierta grados Celsius a grados Fahrenheit utilizando la fórmula: **F = (C * 9/5) + 32**"
   ]
  },
  {
   "cell_type": "code",
   "execution_count": 1,
   "metadata": {},
   "outputs": [
    {
     "name": "stdout",
     "output_type": "stream",
     "text": [
      "1.0 grados Celsius equivalen a 33.8 grados Fahrenheit.\n"
     ]
    }
   ],
   "source": [
    "celsuis = float(input(\"Ingrese la temperatura en grados Celsuis\")); \n",
    "\n",
    "fahrenheit = (celsuis * 9/5) + 32; \n",
    "\n",
    "print(f\"{celsuis} grados Celsius equivalen a {fahrenheit} grados Fahrenheit.\");"
   ]
  },
  {
   "cell_type": "markdown",
   "metadata": {},
   "source": [
    "5) Pedir al usuario su edad y mostrar por pantalla si es mayor de edad o no. (Mayor de edad >= 18)"
   ]
  },
  {
   "cell_type": "code",
   "execution_count": 54,
   "metadata": {},
   "outputs": [
    {
     "name": "stdout",
     "output_type": "stream",
     "text": [
      "usted es mayor de edad\n"
     ]
    }
   ],
   "source": [
    "edadingresada = float(input(\"Ingrese su edad\"))\n",
    "if edadingresada >= 18:\n",
    "    print(\"usted es mayor de edad\")\n",
    "else:\n",
    "    print(\"usted es menor de edad\")"
   ]
  },
  {
   "cell_type": "markdown",
   "metadata": {},
   "source": [
    "6) Comprobar si el numero ingresado por el usuario es par o impar."
   ]
  },
  {
   "cell_type": "code",
   "execution_count": 13,
   "metadata": {},
   "outputs": [
    {
     "name": "stdout",
     "output_type": "stream",
     "text": [
      "Su numero es par\n"
     ]
    }
   ],
   "source": [
    "numero = float(input(\"Ingrese un número\"))\n",
    "if numero % 2 == 0:\n",
    "    print(\"Su numero es par\")\n",
    "else:\n",
    "    print(\"Su numero es impar\") "
   ]
  },
  {
   "cell_type": "markdown",
   "metadata": {},
   "source": [
    "7) Pedir al usuario que ingrese su dirección email y luego mostrar un mensaje indicando si la dirección es válida o no. Una dirección se considerará válida si contiene el símbolo \"@\"."
   ]
  },
  {
   "cell_type": "code",
   "execution_count": 15,
   "metadata": {},
   "outputs": [
    {
     "name": "stdout",
     "output_type": "stream",
     "text": [
      "Su email es valido\n"
     ]
    }
   ],
   "source": [
    "email = input(\"Escriba su email\")\n",
    "if '@' in email:\n",
    "    print(\"Su email es valido\")\n",
    "else:\n",
    "    print(\"Su email deberia llevar arroba\")"
   ]
  },
  {
   "cell_type": "markdown",
   "metadata": {},
   "source": [
    "8) Dado un número de dos cifras, diseñe un algoritmo que permita obtener el número invertido. Ejemplo, si se introduce 23 que muestre 32. (Recordar que las cadenas pueden tratarse como listas de caracteres)."
   ]
  },
  {
   "cell_type": "code",
   "execution_count": 31,
   "metadata": {},
   "outputs": [
    {
     "name": "stdout",
     "output_type": "stream",
     "text": [
      "El número invertido es: 21\n"
     ]
    }
   ],
   "source": [
    "numero = input(\"Ingrese un número de dos cifras: \")\n",
    "numero_invertido = numero[1] + numero[0]\n",
    "print(\"El número invertido es:\", numero_invertido)\n"
   ]
  },
  {
   "cell_type": "markdown",
   "metadata": {},
   "source": [
    "9) Crea un programa que pida al usuario dos números y muestre True si ambos son mayores que 10."
   ]
  },
  {
   "cell_type": "code",
   "execution_count": 48,
   "metadata": {},
   "outputs": [
    {
     "name": "stdout",
     "output_type": "stream",
     "text": [
      "False\n"
     ]
    }
   ],
   "source": [
    "primer = int(input(\"Escriba su primer número\"))\n",
    "segundo = float(input(\"Escriba su segundo número\"))\n",
    "if primer > 10 and segundo > 10:\n",
    "    print(\"True\")\n",
    "else:\n",
    "    print(\"False\")"
   ]
  },
  {
   "cell_type": "markdown",
   "metadata": {},
   "source": [
    "10) Escribe un programa que verifique si un número ingresado por el usuario es divisible por 3 y por 5."
   ]
  },
  {
   "cell_type": "code",
   "execution_count": 53,
   "metadata": {},
   "outputs": [
    {
     "name": "stdout",
     "output_type": "stream",
     "text": [
      "Su valor es divisible por 3 y por 5\n"
     ]
    }
   ],
   "source": [
    "numeroingresado = float(input(\"Escriba su valor\"))\n",
    "resultado = numeroingresado % 5 == 0\n",
    "resultado2 = numeroingresado % 3 == 0\n",
    "if resultado and resultado2:\n",
    "    print(\"Su valor es divisible por 3 y por 5\")\n",
    "else:\n",
    "    print(\"Su valor no es divisible por 3 y por 5\")"
   ]
  },
  {
   "cell_type": "markdown",
   "metadata": {},
   "source": [
    "11) Utilizando la información del punto 5, preguntar al usuario si posee carnet de conducir, luego verificar si puede conducir un automóvil."
   ]
  },
  {
   "cell_type": "code",
   "execution_count": 73,
   "metadata": {},
   "outputs": [
    {
     "name": "stdout",
     "output_type": "stream",
     "text": [
      "\n",
      "Usted puede conducir\n"
     ]
    }
   ],
   "source": [
    "edadingresada = float(input(\"Ingrese su edad\"))\n",
    "if edadingresada >= 18:\n",
    "    print(\"\")\n",
    "    carnet = input(\"Usted posee carnet de conducir?\")\n",
    "    if carnet == \"si\":\n",
    "        print(\"Usted puede conducir\")\n",
    "    else:\n",
    "        print(\"Usted no esta apto para conducir falta su licencia\")\n",
    "else:\n",
    "    print(\"Usted es menor de edad y no puede conducir\")"
   ]
  },
  {
   "cell_type": "markdown",
   "metadata": {},
   "source": [
    "12) Pide al usuario un número y verifica si es positivo y no es mayor que 100."
   ]
  },
  {
   "cell_type": "code",
   "execution_count": 98,
   "metadata": {},
   "outputs": [
    {
     "name": "stdout",
     "output_type": "stream",
     "text": [
      "Su numero es incorrecto\n"
     ]
    }
   ],
   "source": [
    "numero = float(input(\"Ingrese un numero\"))\n",
    "if 0<= numero <= 100 :\n",
    "    print(\"Su numero es correcto\")\n",
    "else:\n",
    "    print(\"Su numero es incorrecto\")\n"
   ]
  },
  {
   "cell_type": "markdown",
   "metadata": {},
   "source": [
    "13) Crear un programa que valide si un número ingresado por el usuario es par y mayor que 20."
   ]
  },
  {
   "cell_type": "code",
   "execution_count": 105,
   "metadata": {},
   "outputs": [
    {
     "name": "stdout",
     "output_type": "stream",
     "text": [
      "Su numero ingresado ES par y mayor que 20\n"
     ]
    }
   ],
   "source": [
    "numeroingresado = float(input(\"Escriba un numero\"))\n",
    "#numeroingresado % = 0\n",
    "#numeroingresado <= 20\n",
    "if numeroingresado > 20 and numeroingresado % 2 == 0:\n",
    "    print(\"Su numero ingresado ES par y mayor que 20\")\n",
    "else:\n",
    "    print(\"Su numero ingresado NO es par o mayor que 20\")"
   ]
  },
  {
   "cell_type": "markdown",
   "metadata": {},
   "source": [
    "14) Dada la variable **numero = 5**, realizar la operación necesaria para que número sea igual a 8. Luego imprimir en pantalla el nuevo valor de número y realizar una nueva operación para que el valor de número sea igual a 4 y mostrar en pantalla el nuevo valor."
   ]
  },
  {
   "cell_type": "code",
   "execution_count": 111,
   "metadata": {},
   "outputs": [
    {
     "name": "stdout",
     "output_type": "stream",
     "text": [
      "8\n",
      "4\n"
     ]
    }
   ],
   "source": [
    "numero = 5\n",
    "suma = numero+3\n",
    "print(suma)\n",
    "resta = suma-4\n",
    "print(resta)"
   ]
  },
  {
   "cell_type": "markdown",
   "metadata": {},
   "source": [
    "15) Dadas las variables altura = \"10\" y base = 5, calcular el área de un triángulo y mostrar el resultado en pantalla. ¿Por qué el resultado es un error? ¿Cómo lo corregirías?"
   ]
  },
  {
   "cell_type": "code",
   "execution_count": 113,
   "metadata": {},
   "outputs": [
    {
     "name": "stdout",
     "output_type": "stream",
     "text": [
      "25.0\n"
     ]
    }
   ],
   "source": [
    "# La altura es un \"string\" y la base es un valor, por lo tanto debemos convertir la altura a un valor al momento de hace el cálculo en mi caso.#\n",
    "altura = '10'\n",
    "base = 5\n",
    "area = base*int(altura)/2\n",
    "print(area)"
   ]
  },
  {
   "cell_type": "markdown",
   "metadata": {},
   "source": [
    "16) Crea un programa que calcule el promedio de tres calificaciones ingresadas por el usuario, y comprobar si el alumno aprobó o no (aprueba con nota mayor a 6)."
   ]
  },
  {
   "cell_type": "code",
   "execution_count": 120,
   "metadata": {},
   "outputs": [
    {
     "name": "stdout",
     "output_type": "stream",
     "text": [
      "El alumno aprobó exitosamente con 6.0\n"
     ]
    }
   ],
   "source": [
    "calificacion1 = float(input(\"Escriba su primera calificación\"))\n",
    "calificacion2 = float(input(\"Escriba su segunda calificación\"))\n",
    "calificacion3 = float(input(\"Escriba su tercera calificación\"))\n",
    "nota = calificacion1+calificacion2+calificacion3\n",
    "nota /=3\n",
    "if nota >= 6:\n",
    "    print(\"El alumno aprobó exitosamente con\", nota)\n",
    "else:\n",
    "    print(\"El alumno no aprobó\")"
   ]
  },
  {
   "cell_type": "markdown",
   "metadata": {},
   "source": [
    "17) Pide al usuario su edad y calcula cuántos días, horas y minutos ha vivido aproximadamente (asumiendo 365 días por año)."
   ]
  },
  {
   "cell_type": "code",
   "execution_count": 129,
   "metadata": {},
   "outputs": [
    {
     "name": "stdout",
     "output_type": "stream",
     "text": [
      "La edad estima que ha vivido durante 365.0 dias, 8760.0 horas, 525600.0 \n"
     ]
    }
   ],
   "source": [
    "edad = float(input(\"Ingrese su edad\"))\n",
    "dia= edad*365\n",
    "hora= dia*24\n",
    "minuto= hora*60\n",
    "print(f\"La edad estima que ha vivido durante {dia} dias, {hora} horas, {minuto} \")"
   ]
  },
  {
   "cell_type": "markdown",
   "metadata": {},
   "source": [
    "18) Crea un programa que verifique si un número ingresado por el usuario es múltiplo de 4 y de 6 al mismo tiempo."
   ]
  },
  {
   "cell_type": "code",
   "execution_count": 132,
   "metadata": {},
   "outputs": [
    {
     "name": "stdout",
     "output_type": "stream",
     "text": [
      "El numero ingresado es multiplo de 4 y 6\n"
     ]
    }
   ],
   "source": [
    "valor = float(input(\"Escriba su valor\"))\n",
    "if valor % 4 == 0 and valor % 6 == 0:\n",
    "    print(\"El numero ingresado es multiplo de 4 y 6\")\n",
    "else:\n",
    "    print(\"El numero ingresado no es multiplo de 4 y 6\")"
   ]
  },
  {
   "cell_type": "markdown",
   "metadata": {},
   "source": [
    "19) "
   ]
  }
 ],
 "metadata": {
  "kernelspec": {
   "display_name": "Python 3",
   "language": "python",
   "name": "python3"
  },
  "language_info": {
   "codemirror_mode": {
    "name": "ipython",
    "version": 3
   },
   "file_extension": ".py",
   "mimetype": "text/x-python",
   "name": "python",
   "nbconvert_exporter": "python",
   "pygments_lexer": "ipython3",
   "version": "3.12.0"
  }
 },
 "nbformat": 4,
 "nbformat_minor": 2
}
